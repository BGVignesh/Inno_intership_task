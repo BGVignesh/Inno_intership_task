{
 "cells": [
  {
   "cell_type": "code",
   "execution_count": 1,
   "id": "48c21381",
   "metadata": {},
   "outputs": [],
   "source": [
    "import pandas as pd\n",
    "import numpy as np"
   ]
  },
  {
   "cell_type": "code",
   "execution_count": 2,
   "id": "63516629",
   "metadata": {},
   "outputs": [],
   "source": [
    "dd = pd.read_csv(r\"C:\\Users\\hi\\Desktop\\Innomatics\\Internship 2024 Sample Docs\\raw_data_v11_3.csv\")"
   ]
  },
  {
   "cell_type": "code",
   "execution_count": 3,
   "id": "4bd426a0",
   "metadata": {},
   "outputs": [
    {
     "data": {
      "text/html": [
       "<div>\n",
       "<style scoped>\n",
       "    .dataframe tbody tr th:only-of-type {\n",
       "        vertical-align: middle;\n",
       "    }\n",
       "\n",
       "    .dataframe tbody tr th {\n",
       "        vertical-align: top;\n",
       "    }\n",
       "\n",
       "    .dataframe thead th {\n",
       "        text-align: right;\n",
       "    }\n",
       "</style>\n",
       "<table border=\"1\" class=\"dataframe\">\n",
       "  <thead>\n",
       "    <tr style=\"text-align: right;\">\n",
       "      <th></th>\n",
       "      <th>Date of Birth</th>\n",
       "      <th>What is your current profession?</th>\n",
       "      <th>What is the year of completion of your Highest Education Qualification?</th>\n",
       "      <th>Which of the following best describes you?</th>\n",
       "      <th>Please mention the name of the institute where you have completed or are currently pursuing your Data Science Certification Course.</th>\n",
       "      <th>In case your certification institute is \"Innomatics Research Labs\", please provide your Enrolled Batch Number.</th>\n",
       "      <th>Please indicate the time that suits you for your daily LIVE interaction with our Chief Data Scientist as part of your internship.</th>\n",
       "      <th>What do you think are most important skill right now for a skilled Data Scientist?</th>\n",
       "    </tr>\n",
       "  </thead>\n",
       "  <tbody>\n",
       "    <tr>\n",
       "      <th>0</th>\n",
       "      <td>9/16/2000</td>\n",
       "      <td>Fresher (I have completed my Education and loo...</td>\n",
       "      <td>7/30/2023</td>\n",
       "      <td>I am currently enrolled in a Data Science cert...</td>\n",
       "      <td>Innomatics Research Labs</td>\n",
       "      <td>251</td>\n",
       "      <td>6:00 to 7:00 PM IST</td>\n",
       "      <td>Extracting actionable insights from the raw da...</td>\n",
       "    </tr>\n",
       "    <tr>\n",
       "      <th>1</th>\n",
       "      <td>2/6/1998</td>\n",
       "      <td>Fresher (I have completed my Education and loo...</td>\n",
       "      <td>5/18/2022</td>\n",
       "      <td>I have never enrolled in any certification cou...</td>\n",
       "      <td>NaN</td>\n",
       "      <td>NaN</td>\n",
       "      <td>6:00 to 7:00 PM IST</td>\n",
       "      <td>Extracting actionable insights from the raw data</td>\n",
       "    </tr>\n",
       "    <tr>\n",
       "      <th>2</th>\n",
       "      <td>10/8/2003</td>\n",
       "      <td>Student (I am currently enrolled in some Educa...</td>\n",
       "      <td>4/1/2025</td>\n",
       "      <td>I am currently enrolled in a Data Science cert...</td>\n",
       "      <td>NaN</td>\n",
       "      <td>NaN</td>\n",
       "      <td>6:00 to 7:00 PM IST</td>\n",
       "      <td>Data Modelling</td>\n",
       "    </tr>\n",
       "    <tr>\n",
       "      <th>3</th>\n",
       "      <td>11/29/2001</td>\n",
       "      <td>Student (I am currently enrolled in some Educa...</td>\n",
       "      <td>5/15/2024</td>\n",
       "      <td>I have never enrolled in any certification cou...</td>\n",
       "      <td>NaN</td>\n",
       "      <td>NaN</td>\n",
       "      <td>5:00 to 6:00 PM IST</td>\n",
       "      <td>Extracting actionable insights from the raw da...</td>\n",
       "    </tr>\n",
       "    <tr>\n",
       "      <th>4</th>\n",
       "      <td>11/25/2004</td>\n",
       "      <td>Student (I am currently enrolled in some Educa...</td>\n",
       "      <td>1/10/2026</td>\n",
       "      <td>I have completed a Data Science certification ...</td>\n",
       "      <td>Velagapudi ramakrishna Siddhartha college</td>\n",
       "      <td>Na</td>\n",
       "      <td>6:00 to 7:00 PM IST</td>\n",
       "      <td>Extracting actionable insights from the raw da...</td>\n",
       "    </tr>\n",
       "  </tbody>\n",
       "</table>\n",
       "</div>"
      ],
      "text/plain": [
       "  Date of Birth                   What is your current profession?  \\\n",
       "0     9/16/2000  Fresher (I have completed my Education and loo...   \n",
       "1      2/6/1998  Fresher (I have completed my Education and loo...   \n",
       "2     10/8/2003  Student (I am currently enrolled in some Educa...   \n",
       "3    11/29/2001  Student (I am currently enrolled in some Educa...   \n",
       "4    11/25/2004  Student (I am currently enrolled in some Educa...   \n",
       "\n",
       "  What is the year of completion of your Highest Education Qualification?  \\\n",
       "0                                          7/30/2023                        \n",
       "1                                          5/18/2022                        \n",
       "2                                           4/1/2025                        \n",
       "3                                          5/15/2024                        \n",
       "4                                          1/10/2026                        \n",
       "\n",
       "          Which of the following best describes you?  \\\n",
       "0  I am currently enrolled in a Data Science cert...   \n",
       "1  I have never enrolled in any certification cou...   \n",
       "2  I am currently enrolled in a Data Science cert...   \n",
       "3  I have never enrolled in any certification cou...   \n",
       "4  I have completed a Data Science certification ...   \n",
       "\n",
       "  Please mention the name of the institute where you have completed or are currently pursuing your Data Science Certification Course.  \\\n",
       "0                           Innomatics Research Labs                                                                                    \n",
       "1                                                NaN                                                                                    \n",
       "2                                                NaN                                                                                    \n",
       "3                                                NaN                                                                                    \n",
       "4         Velagapudi ramakrishna Siddhartha college                                                                                     \n",
       "\n",
       "  In case your certification institute is \"Innomatics Research Labs\", please provide your Enrolled Batch Number.  \\\n",
       "0                                                251                                                               \n",
       "1                                                NaN                                                               \n",
       "2                                                NaN                                                               \n",
       "3                                                NaN                                                               \n",
       "4                                                 Na                                                               \n",
       "\n",
       "  Please indicate the time that suits you for your daily LIVE interaction with our Chief Data Scientist as part of your internship.  \\\n",
       "0                                6:00 to 7:00 PM IST                                                                                  \n",
       "1                                6:00 to 7:00 PM IST                                                                                  \n",
       "2                                6:00 to 7:00 PM IST                                                                                  \n",
       "3                                5:00 to 6:00 PM IST                                                                                  \n",
       "4                                6:00 to 7:00 PM IST                                                                                  \n",
       "\n",
       "  What do you think are most important skill right now for a skilled Data Scientist?  \n",
       "0  Extracting actionable insights from the raw da...                                  \n",
       "1   Extracting actionable insights from the raw data                                  \n",
       "2                                     Data Modelling                                  \n",
       "3  Extracting actionable insights from the raw da...                                  \n",
       "4  Extracting actionable insights from the raw da...                                  "
      ]
     },
     "execution_count": 3,
     "metadata": {},
     "output_type": "execute_result"
    }
   ],
   "source": [
    "dd.head()"
   ]
  },
  {
   "cell_type": "code",
   "execution_count": 4,
   "id": "2649327f",
   "metadata": {},
   "outputs": [],
   "source": [
    "dd = dd.rename(columns = {'Date of Birth':'DOB', \n",
    "                          'What is your current profession?': 'Cur_profe',\n",
    "                          'What is the year of completion of your Highest Education Qualification?':'Year_Qualified',\n",
    "                          'Which of the following best describes you?':'About_you',\n",
    "                         'Please mention the name of the institute where you have completed or are currently pursuing your Data Science Certification Course.':'Institute',\n",
    "                         'In case your certification institute is \"Innomatics Research Labs\", please provide your Enrolled Batch Number.':'Inno_BatchNo',\n",
    "                         'Please indicate the time that suits you for your daily LIVE interaction with our Chief Data Scientist as part of your internship.':'Preferred_time',\n",
    "                         'What do you think are most important skill right now for a skilled Data Scientist?':'Imp_Skills'})"
   ]
  },
  {
   "cell_type": "code",
   "execution_count": 5,
   "id": "cf6c754e",
   "metadata": {},
   "outputs": [
    {
     "data": {
      "text/plain": [
       "Index(['DOB', 'Cur_profe', 'Year_Qualified', 'About_you', 'Institute',\n",
       "       'Inno_BatchNo', 'Preferred_time', 'Imp_Skills'],\n",
       "      dtype='object')"
      ]
     },
     "execution_count": 5,
     "metadata": {},
     "output_type": "execute_result"
    }
   ],
   "source": [
    "dd.columns"
   ]
  },
  {
   "cell_type": "code",
   "execution_count": 6,
   "id": "d43b488a",
   "metadata": {},
   "outputs": [
    {
     "data": {
      "text/html": [
       "<div>\n",
       "<style scoped>\n",
       "    .dataframe tbody tr th:only-of-type {\n",
       "        vertical-align: middle;\n",
       "    }\n",
       "\n",
       "    .dataframe tbody tr th {\n",
       "        vertical-align: top;\n",
       "    }\n",
       "\n",
       "    .dataframe thead th {\n",
       "        text-align: right;\n",
       "    }\n",
       "</style>\n",
       "<table border=\"1\" class=\"dataframe\">\n",
       "  <thead>\n",
       "    <tr style=\"text-align: right;\">\n",
       "      <th></th>\n",
       "      <th>DOB</th>\n",
       "      <th>Cur_profe</th>\n",
       "      <th>Year_Qualified</th>\n",
       "      <th>About_you</th>\n",
       "      <th>Institute</th>\n",
       "      <th>Inno_BatchNo</th>\n",
       "      <th>Preferred_time</th>\n",
       "      <th>Imp_Skills</th>\n",
       "    </tr>\n",
       "  </thead>\n",
       "  <tbody>\n",
       "    <tr>\n",
       "      <th>0</th>\n",
       "      <td>9/16/2000</td>\n",
       "      <td>Fresher (I have completed my Education and loo...</td>\n",
       "      <td>7/30/2023</td>\n",
       "      <td>I am currently enrolled in a Data Science cert...</td>\n",
       "      <td>Innomatics Research Labs</td>\n",
       "      <td>251</td>\n",
       "      <td>6:00 to 7:00 PM IST</td>\n",
       "      <td>Extracting actionable insights from the raw da...</td>\n",
       "    </tr>\n",
       "    <tr>\n",
       "      <th>1</th>\n",
       "      <td>2/6/1998</td>\n",
       "      <td>Fresher (I have completed my Education and loo...</td>\n",
       "      <td>5/18/2022</td>\n",
       "      <td>I have never enrolled in any certification cou...</td>\n",
       "      <td>NaN</td>\n",
       "      <td>NaN</td>\n",
       "      <td>6:00 to 7:00 PM IST</td>\n",
       "      <td>Extracting actionable insights from the raw data</td>\n",
       "    </tr>\n",
       "    <tr>\n",
       "      <th>2</th>\n",
       "      <td>10/8/2003</td>\n",
       "      <td>Student (I am currently enrolled in some Educa...</td>\n",
       "      <td>4/1/2025</td>\n",
       "      <td>I am currently enrolled in a Data Science cert...</td>\n",
       "      <td>NaN</td>\n",
       "      <td>NaN</td>\n",
       "      <td>6:00 to 7:00 PM IST</td>\n",
       "      <td>Data Modelling</td>\n",
       "    </tr>\n",
       "    <tr>\n",
       "      <th>3</th>\n",
       "      <td>11/29/2001</td>\n",
       "      <td>Student (I am currently enrolled in some Educa...</td>\n",
       "      <td>5/15/2024</td>\n",
       "      <td>I have never enrolled in any certification cou...</td>\n",
       "      <td>NaN</td>\n",
       "      <td>NaN</td>\n",
       "      <td>5:00 to 6:00 PM IST</td>\n",
       "      <td>Extracting actionable insights from the raw da...</td>\n",
       "    </tr>\n",
       "    <tr>\n",
       "      <th>4</th>\n",
       "      <td>11/25/2004</td>\n",
       "      <td>Student (I am currently enrolled in some Educa...</td>\n",
       "      <td>1/10/2026</td>\n",
       "      <td>I have completed a Data Science certification ...</td>\n",
       "      <td>Velagapudi ramakrishna Siddhartha college</td>\n",
       "      <td>Na</td>\n",
       "      <td>6:00 to 7:00 PM IST</td>\n",
       "      <td>Extracting actionable insights from the raw da...</td>\n",
       "    </tr>\n",
       "  </tbody>\n",
       "</table>\n",
       "</div>"
      ],
      "text/plain": [
       "          DOB                                          Cur_profe  \\\n",
       "0   9/16/2000  Fresher (I have completed my Education and loo...   \n",
       "1    2/6/1998  Fresher (I have completed my Education and loo...   \n",
       "2   10/8/2003  Student (I am currently enrolled in some Educa...   \n",
       "3  11/29/2001  Student (I am currently enrolled in some Educa...   \n",
       "4  11/25/2004  Student (I am currently enrolled in some Educa...   \n",
       "\n",
       "  Year_Qualified                                          About_you  \\\n",
       "0      7/30/2023  I am currently enrolled in a Data Science cert...   \n",
       "1      5/18/2022  I have never enrolled in any certification cou...   \n",
       "2       4/1/2025  I am currently enrolled in a Data Science cert...   \n",
       "3      5/15/2024  I have never enrolled in any certification cou...   \n",
       "4      1/10/2026  I have completed a Data Science certification ...   \n",
       "\n",
       "                                    Institute Inno_BatchNo  \\\n",
       "0                    Innomatics Research Labs          251   \n",
       "1                                         NaN          NaN   \n",
       "2                                         NaN          NaN   \n",
       "3                                         NaN          NaN   \n",
       "4  Velagapudi ramakrishna Siddhartha college            Na   \n",
       "\n",
       "        Preferred_time                                         Imp_Skills  \n",
       "0  6:00 to 7:00 PM IST  Extracting actionable insights from the raw da...  \n",
       "1  6:00 to 7:00 PM IST   Extracting actionable insights from the raw data  \n",
       "2  6:00 to 7:00 PM IST                                     Data Modelling  \n",
       "3  5:00 to 6:00 PM IST  Extracting actionable insights from the raw da...  \n",
       "4  6:00 to 7:00 PM IST  Extracting actionable insights from the raw da...  "
      ]
     },
     "execution_count": 6,
     "metadata": {},
     "output_type": "execute_result"
    }
   ],
   "source": [
    "dd.head()"
   ]
  },
  {
   "cell_type": "code",
   "execution_count": 7,
   "id": "a16676cc",
   "metadata": {},
   "outputs": [
    {
     "name": "stdout",
     "output_type": "stream",
     "text": [
      "DOB:['9/16/2000' '2/6/1998' '10/8/2003' '11/29/2001' '11/25/2004' '7/16/2001'\n",
      " '4/4/2000' '4/13/2003' '10/30/2003' '4/6/1997' '6/25/2002' '11/1/2001'\n",
      " '6/22/2002' '7/10/2000' '1/11/2004' '9/17/1999' '10/14/2001' '12/16/2000'\n",
      " '8/17/2002' '5/4/2000' '7/18/2003' '12/13/2001' '12/15/1993' '6/2/2003'\n",
      " '8/10/2003' '11/4/2002' '12/1/1994' '9/16/2002' '1/5/1993' '4/9/2000'\n",
      " '1/18/2002' '3/2/2004' '7/31/2001' '11/3/2001' '4/6/2003' '4/20/2000'\n",
      " '12/1/2002' '10/13/2000' '7/1/2001' '5/1/1999' '6/15/1999' '7/5/2003'\n",
      " '3/9/2001' '9/3/1999' '5/9/2003' '6/10/1998' '4/18/2004' '9/6/1995'\n",
      " '4/1/2001' '8/27/1999' '6/17/1999' '11/24/2001' '11/24/1997' '2/13/1991'\n",
      " '11/27/2002' '1/4/2002' '6/29/2000' '3/5/2001' '10/15/2001' '6/15/2003'\n",
      " '5/23/2003' '6/28/2002' '7/18/1989' '9/27/2000' '8/2/2002' '6/30/2000'\n",
      " '7/23/2001' '12/22/2001' '12/10/2003' '11/23/2002' '6/2/2002' '5/10/2001'\n",
      " '6/28/2000' '10/23/2000' '8/30/2002' '6/13/2002' '6/9/2003' '10/20/2003'\n",
      " '3/3/1998' '11/9/2003' '4/10/2004' '6/13/1993' '9/2/2002' '7/13/1999'\n",
      " '10/8/2001' '10/23/2004' '1/18/2000' '5/7/1999' '12/13/1999' '11/7/1999'\n",
      " '7/10/2001' '5/14/2004' '3/15/2002' '1/15/2001' '11/21/2001' '7/24/2001'\n",
      " '9/24/2002' '5/20/2003' '8/9/2003' '9/23/2000' '5/5/2003' '7/13/2001'\n",
      " '5/1/1993' '8/20/2001' '9/20/2000' '7/14/2000' '6/30/2003' '7/17/2002'\n",
      " '7/10/2003' '4/27/2002' '1/7/2002' '10/19/2024' '12/30/2000' '5/14/2003'\n",
      " '5/9/2002' '11/11/2001' '5/2/2003' '3/22/1999' '1/20/2000' '9/16/2003'\n",
      " '11/28/2000' '5/3/2002' '3/21/2002' '6/2/2001' '10/13/2001' '9/8/2002'\n",
      " '9/26/2003' '11/26/2001' '9/9/2001' '7/29/2001' '7/14/2001' '6/12/1998'\n",
      " '5/8/2002' '2/7/2000' '12/14/2003' '10/6/2002' '5/28/2001' '3/29/1991'\n",
      " '7/17/2000' '4/23/2001' '5/22/2003' '11/19/2000' '9/28/1996' '9/29/2002'\n",
      " '12/4/2003' '5/31/2003' '11/23/2003' '5/12/2001' '1/13/2003' '7/21/1998'\n",
      " '10/2/2001' '9/17/2001' '2/15/2001' '5/15/2000' '5/23/1995' '9/16/2001'\n",
      " '6/16/2001' '5/10/2003' '12/28/2001' '3/10/2004' '7/14/1999' '2/13/2004'\n",
      " '12/18/2003' '2/4/2003' '10/10/2003' '10/30/2002' '8/2/2004' '11/30/2002'\n",
      " '1/20/2002' '1/1/2004' '4/26/2005' '1/26/2001' '10/7/2002' '9/26/2001'\n",
      " '7/1/1999' '5/4/2001' '11/24/2002' '5/10/1998' '2/10/1996' '11/28/2005'\n",
      " '11/5/2001' '3/31/1997' '7/20/2004' '12/13/2003' '1/1/1999' '7/19/2003'\n",
      " '7/29/2003' '2/1/2002' '10/4/1998' '8/15/2002' '1/27/2002' '6/30/2004'\n",
      " '4/5/1999' '11/27/1994' '7/25/1992' '10/11/2002' '8/19/2003' '10/17/1997'\n",
      " '5/29/2000' '12/29/2004' '12/22/1999' '10/16/1997' '8/6/1992' '8/30/1992'\n",
      " '10/4/2000' '6/25/2001' '5/19/1999' '2/28/1998' '8/10/2001' '9/11/2003'\n",
      " '8/16/2002' '9/29/2001' '6/1/2002' '3/22/2004' '10/24/2002' '9/7/1994'\n",
      " '6/16/2002' '2/1/1999' '9/28/2002' '5/20/2001' '3/28/2002' '5/3/2001'\n",
      " '5/5/2005' '8/14/1996' '12/1/2000' '8/4/2003' '6/23/2001' '8/12/2001'\n",
      " '3/15/1997' '7/19/2005' '8/9/2004' '9/7/2002' '2/3/2000' '10/26/2002'\n",
      " '6/5/1996' '3/5/1996' '4/29/2002' '6/17/2002' '1/1/2000' '1/10/2004'\n",
      " '12/30/2001' '8/19/2002' '12/2/1996' '2/11/2003' '1/11/2002' '11/5/2002'\n",
      " '9/1/2002' '12/21/1994' '4/10/2003' '4/2/2004' '6/13/2003' '5/20/1995'\n",
      " '2/4/2001' '12/3/2002' '11/13/2002' '10/5/2001' '5/23/2001' '4/22/2002'\n",
      " '1/30/1995' '9/26/2002' '2/22/2003' '5/17/2001' '11/1/1988' '7/4/2000'\n",
      " '8/6/1989' '6/20/2003' '4/10/1999' '7/21/2003' '10/4/2002' '5/8/1998'\n",
      " '5/24/2001' '6/18/2003' '9/22/1999' '6/6/1997' '8/30/1999' '5/5/2000'\n",
      " '7/29/2000' '10/22/1999' '12/5/1989' '2/1/2003' '10/23/2003' '5/8/2003'\n",
      " '12/27/1997' '1/21/1998' '11/26/2000' '12/21/2000' '4/26/1993'\n",
      " '1/17/2001' '12/30/1998' '3/7/1999' '8/17/2001' '4/19/1999' '1/16/2024'\n",
      " '8/17/2004' '5/6/1992' '12/5/1997' '5/15/2004' '9/26/2004' '11/17/1999'\n",
      " '11/26/2003' '4/5/2002' '1/21/2004' '3/10/2005' '10/5/2003' '10/23/2001'\n",
      " '2/27/2001' '4/9/2002' '6/18/2004' '5/19/2004' '7/26/2000' '7/26/2003'\n",
      " '1/10/2003' '10/9/2001' '6/12/2000' '5/16/2001' '5/30/2003' '4/8/2003'\n",
      " '7/16/2003' '3/26/2003' '10/28/1996' '8/24/2002' '3/15/2006' '11/19/2001'\n",
      " '4/18/1999' '6/30/2001' '9/19/2001' '5/26/2003' '3/18/1998' '10/6/2001'\n",
      " '10/24/2001' '8/1/2002' '12/23/2000' '8/6/2003' '6/18/2001' '7/2/2004'\n",
      " '6/20/2001' '3/4/2000' '5/31/2004' '10/26/2001' '10/9/2004' '1/2/2004'\n",
      " '3/13/2004' '8/4/2002' '9/23/1999' '7/1/1994' '8/5/2003' '7/19/2004'\n",
      " '4/21/1999' '4/3/2002' '10/20/2000' '4/8/2001' '9/28/2001' '2/4/1998'\n",
      " '1/8/1998' '6/25/2003' '3/4/2003' '3/4/1997' '5/6/1991' '9/19/2002'\n",
      " '5/29/1997' '3/18/2001' '12/27/1999' '11/19/2002' '10/17/2003' '5/9/2005'\n",
      " '4/29/1999' '3/6/2001' '5/15/1995' '10/17/2002' '11/29/2002' '2/6/1994'\n",
      " '3/4/1995' '5/28/2003' '7/23/1995' '5/3/2004' '7/5/2004' '1/10/2001'\n",
      " '10/22/1996' '7/21/1990' '12/9/2001' '2/4/1999' '1/4/2001' '1/2/2003'\n",
      " '2/26/2000' '3/4/1998' '8/15/2004' '1/10/2002' '7/21/1999' '5/6/1999'\n",
      " '11/21/2003' '7/9/2003' '4/26/1996' '4/21/2002' '10/3/2002' '4/27/2003'\n",
      " '4/30/1999' '8/23/2001' '6/27/2002' '7/12/2002' '6/17/2001' '7/8/2002'\n",
      " '9/11/2001' '10/6/2000' '2/5/2004' '1/23/2003' '2/5/2002' '4/28/2004'\n",
      " '7/15/2002' '8/22/2003' '11/28/2002' '2/26/2003' '11/28/2001' '8/9/2001'\n",
      " '4/25/1995' '4/1/2004' '7/14/2002' '3/10/2002' '4/16/2005' '8/15/2001'\n",
      " '5/18/1998' '5/7/2003' '8/17/2003' '2/3/2001' '1/10/1997' '8/28/2002'\n",
      " '6/19/2000' '9/2/2001' '5/28/1999' '11/21/2002' '12/2/2002' '10/10/2002'\n",
      " '4/15/2001' '12/2/2001' '7/27/1999' '10/27/2003' '4/18/1996' '3/25/2000'\n",
      " '7/31/1998' '9/30/2001' '9/30/2002' '2/2/2000' '12/15/2001' '5/22/2000'\n",
      " '5/31/2001' '7/28/2002' '10/5/2002' '6/29/2004' '3/8/2001' '8/1/1998'\n",
      " '10/21/2000' '3/18/2002' '5/1/2000' '10/28/2002' '7/7/2001' '2/25/2000'\n",
      " '4/10/2001' '9/14/1992' '7/4/2002' '10/31/2000' '8/8/2001' '11/27/1995'\n",
      " '12/29/2001' '4/18/2003' '5/26/2002' '9/26/1999' '5/10/2000' '9/3/2001'\n",
      " '9/25/2004' '8/14/2002' '2/20/1997' '7/1/1997' '7/15/1997' '6/17/1997'\n",
      " '11/1/2000' '4/5/2000' '5/27/2000' '7/9/2001' '5/17/2003' '6/19/2002'\n",
      " '9/30/2004' '11/20/2000' '4/28/1996' '1/22/2002' '5/13/2024' '1/16/2001'\n",
      " '4/18/2000' '12/9/2000' '7/22/2002' '2/6/2000' '9/5/2003' '6/6/2002'\n",
      " '2/6/2003' '12/7/2000' '2/28/2003' '7/23/2000' '8/10/2000' '3/21/2001'\n",
      " '3/27/2002' '2/8/2003' '11/19/1999' '8/6/2001' '11/2/2002' '1/27/2003'\n",
      " '2/19/2002' '10/30/2001' '11/1/2002' '9/15/2002' '8/18/1994' '12/2/2000'\n",
      " '8/18/2003' '4/30/2002' '6/2/2004' '10/7/2003' '7/2/2000' '7/4/1996'\n",
      " '4/16/2002' '11/30/1999' '10/31/2002' '1/31/2004' '6/6/1995' '4/28/2003'\n",
      " '10/11/2000' '7/6/1999' '4/16/1997' '3/6/1990' '7/30/2003' '8/20/2004'\n",
      " '3/8/2002' '7/23/1990' '10/7/1997' '10/18/2001' '12/23/1986' '9/6/2001'\n",
      " '8/4/2004' '9/2/2000' '8/15/2000' '8/29/1999' '2/15/2000' '6/6/1980'\n",
      " '8/5/2002' '10/15/1999' '8/23/2002' '3/21/1999' '12/7/1999' '1/22/2004'\n",
      " '3/14/2000' '5/10/2002' '6/22/2000' '6/7/2002' '6/6/1998' '3/25/2003'\n",
      " '3/17/2003' '8/12/1991' '1/25/2002' '12/25/2000' '3/1/2001' '6/5/2002'\n",
      " '2/21/2003' '3/26/1999' '8/8/2000' '5/21/2001' '4/1/1991' '4/4/2004'\n",
      " '4/3/1999' '8/18/1998' '5/2/2001' '5/7/2002' '7/26/2002' '2/27/2003'\n",
      " '9/26/2000' '3/10/1996' '2/18/2001' '4/27/1999' '4/3/2000' '9/24/2001'\n",
      " '4/27/1991' '10/20/2001' '6/17/2000' '3/15/2004' '7/24/2002' '4/14/2002'\n",
      " '9/28/2003' '4/3/2001' '6/1/1995' '11/14/1996' '4/8/2002' '10/8/1997'\n",
      " '2/11/2002' '6/2/2000' '8/19/2004' '12/6/2001' '7/3/2003' '4/6/2001'\n",
      " '5/20/1997' '12/29/1999' '11/30/2001' '2/21/2002' '4/7/2002' '5/25/2001'\n",
      " '1/22/1994' '3/11/2002' '8/19/1999' '4/6/1989' '10/19/2001' '11/15/1988'\n",
      " '8/14/2001' '4/17/1994' '8/21/2002' '3/3/2003' '6/5/1999' '5/12/2002'\n",
      " '1/19/2002' '11/15/2003' '10/30/1998' '4/4/2001' '10/18/2002'\n",
      " '10/21/2002' '5/3/2003' '1/3/2000' '7/15/2000' '12/11/2002' '6/20/1988'\n",
      " '11/13/2000' '4/29/2004' '7/25/1988' '8/11/2004' '1/22/2003' '12/29/1989'\n",
      " '2/10/1999' '7/29/2002' '1/1/2002' '12/25/2002' '2/10/2002' '7/26/1997'\n",
      " '10/16/1995' '3/5/2004' '7/2/2002' '8/31/2004' '8/14/2003' '4/19/2005'\n",
      " '2/15/2002' '7/28/1999' '9/30/2000' '2/7/2001' '1/3/2001' '12/19/2000'\n",
      " '11/4/1994' '3/4/2001' '6/8/2000' '6/7/1997' '2/25/2003' '7/11/2000'\n",
      " '5/15/1999' '6/7/2003' '5/13/1989' '7/21/2002' '8/22/2005' '9/2/2004'\n",
      " '4/30/1994' '12/20/2003' '12/21/1996' '1/9/2004' '1/15/2002' '11/8/2001'\n",
      " '11/6/2003' '5/22/1995' '1/20/2003' '9/18/1999' '5/8/2000' '1/15/2000'\n",
      " '4/3/2003' '4/19/2002' '3/6/2003' '1/12/2003' '9/19/1997' '9/18/2000'\n",
      " '12/25/2001' '6/9/2001' '12/21/1999' '10/25/2000' '5/9/2001' '4/30/2001'\n",
      " '7/2/1998' '7/12/2000' '8/15/1995' '1/7/2003' '9/23/1998' '12/19/1996'\n",
      " '4/14/2001' '10/11/2003' '2/2/1995' '12/3/2000' '8/2/2001' '8/9/2000'\n",
      " '10/17/2004' '1/2/2001' '10/20/2002' '10/8/2004' '5/17/2002' '9/24/2003'\n",
      " '12/12/1998' '10/16/2002' '10/7/2001' '12/9/2002' '7/31/1991' '5/23/2002'\n",
      " '6/24/2002' '12/19/2004' '5/20/2004' '9/12/2000' '7/23/2007' '11/13/1999'\n",
      " '8/28/2000' '9/4/1999' '5/1/2001' '8/27/2002' '5/25/1998' '3/22/2001'\n",
      " '2/28/2006' '10/27/2002' '6/18/2002' '12/8/1995' '7/30/2004' '2/19/2000'\n",
      " '5/14/1989' '10/21/2003' '1/29/2004' '12/17/2004' '10/23/1999'\n",
      " '4/17/2001' '6/16/2000' '11/17/2001' '11/30/2004' '5/28/2002'\n",
      " '10/29/1991' '8/21/2003' '6/11/2002' '2/24/2003' '12/28/1999' '2/2/2005'\n",
      " '6/1/2000' '8/28/2003' '6/5/2003' '2/17/2004' '2/13/1998' '6/4/2001'\n",
      " '8/4/2000' '7/13/2000' '7/27/2002' '6/27/2001' '8/27/2003' '6/23/2002'\n",
      " '2/8/1999' '9/5/2004' '3/15/2000' '11/16/1998' '4/19/1997' '11/7/1998'\n",
      " '9/12/1995' '8/2/2003' '5/26/2000' '6/10/2004' '3/21/2004' '4/4/2002'\n",
      " '12/12/2001' '8/5/2001' '3/12/2001' '9/1/1997' '6/2/1999' '1/26/2000'\n",
      " '3/26/2002' '7/28/1995' '2/14/1998' '2/27/2004' '12/12/1999' '1/13/1997'\n",
      " '11/15/1991' '6/10/1996' '2/25/2001' '8/25/2000' '2/27/1998' '2/14/2002'\n",
      " '6/14/2002' '6/15/2001' '4/28/2000' '7/12/1999' '2/8/2001' '3/14/2004'\n",
      " '12/24/2001' '9/2/2003' '8/24/2004' '6/30/1998' '5/26/1998' '10/8/1999'\n",
      " '12/17/2003' '12/31/1992' '3/13/2003' '11/10/1989' '8/20/2002'\n",
      " '8/31/2001' '12/29/1998' '3/10/1990' '5/22/2001' '4/5/1995' '12/13/2002'\n",
      " '10/26/2003' '5/16/2002' '12/14/1999' '3/28/1998' '12/11/2001'\n",
      " '7/19/2002' '11/24/2004' '6/20/2002' '8/31/2003' '7/9/1999' '12/16/2001'\n",
      " '6/18/2000' '1/30/2003' '3/28/2003' '7/18/2002' '6/26/2003' '6/10/1995'\n",
      " '8/28/1998' '4/22/2004' '6/3/2003' '7/24/2003']\n",
      "Cur_profe:['Fresher (I have completed my Education and looking for a job now)'\n",
      " 'Student (I am currently enrolled in some Educational Program)'\n",
      " 'Freelancer (I have completed my Education and working part time or owns a business)'\n",
      " 'Working Professional (I have completed my Education and working full time)']\n",
      "Year_Qualified:['7/30/2023' '5/18/2022' '4/1/2025' '5/15/2024' '1/10/2026' '6/13/2022'\n",
      " '8/8/2022' '7/1/2024' '4/30/2025' '5/30/2018' '5/9/2024' '6/5/2023'\n",
      " '4/22/2023' '8/10/2022' '6/26/2025' '8/30/2023' '6/16/2023' '7/20/2022'\n",
      " '7/15/2023' '11/28/2023' '6/25/2025' '8/15/2024' '12/20/2018' '7/31/2025'\n",
      " '4/30/2024' '6/15/2024' '7/15/2019' '5/1/2025' '6/10/2015' '4/12/2020'\n",
      " '5/1/2023' '6/1/2025' '4/1/2024' '5/10/2024' '4/24/2022' '2/22/2024'\n",
      " '5/20/2020' '7/26/2022' '9/13/2022' '12/22/2022' '4/27/2024' '6/18/2021'\n",
      " '5/13/2025' '12/29/2020' '7/7/2023' '7/15/2022' '1/1/2023' '8/20/2022'\n",
      " '7/1/2021' '6/10/2024' '1/11/2023' '7/20/2023' '2/25/2024' '7/31/2024'\n",
      " '10/11/2010' '4/16/2022' '4/24/2024' '2/1/2024' '6/10/2025' '10/8/2021'\n",
      " '4/16/2025' '6/30/2025' '10/11/2023' '6/30/2024' '4/28/2023' '6/22/2023'\n",
      " '5/1/2024' '6/20/2024' '5/15/2025' '3/31/2024' '5/20/2024' '8/28/2023'\n",
      " '10/10/2018' '6/10/2023' '3/1/2026' '12/30/2021' '3/31/2022' '5/12/2022'\n",
      " '6/29/2022' '5/1/2026' '8/17/2023' '9/15/2021' '4/10/2024' '8/1/2024'\n",
      " '12/12/2017' '5/31/2024' '7/21/2021' '12/31/2021' '3/20/2025' '5/11/2023'\n",
      " '5/7/2024' '8/7/2023' '4/30/2023' '7/10/2023' '4/4/2024' '6/15/2023'\n",
      " '8/11/2022' '9/4/2020' '8/23/2021' '6/16/2025' '11/20/2024' '1/10/2024'\n",
      " '5/22/2023' '5/25/2022' '5/30/2023' '6/1/2023' '12/20/2024' '10/26/2024'\n",
      " '8/15/2022' '7/12/2021' '4/15/2025' '10/31/2024' '1/9/2025' '5/5/2023'\n",
      " '7/21/2022' '6/20/2023' '5/22/2003' '1/16/2023' '5/31/2018' '5/8/2024'\n",
      " '6/20/2025' '5/31/2025' '4/19/2023' '6/1/2024' '7/1/2025' '3/14/2016'\n",
      " '6/25/2024' '8/11/2023' '6/3/2023' '1/10/2025' '8/1/2022' '5/10/2025'\n",
      " '4/4/2025' '8/31/2025' '5/5/2024' '5/5/2025' '1/9/2021' '4/2/2026'\n",
      " '1/26/2001' '6/8/2024' '1/9/2024' '3/10/2022' '3/16/2024' '4/20/2026'\n",
      " '1/9/2023' '7/18/2019' '4/11/2025' '4/20/2024' '7/17/2019' '7/31/2023'\n",
      " '5/15/2021' '5/31/2016' '7/26/2018' '3/15/2024' '5/4/2024' '9/30/2021'\n",
      " '5/29/2026' '5/20/2026' '12/22/1999' '10/20/2021' '6/30/2023' '2/20/2016'\n",
      " '5/14/2015' '8/26/2023' '1/16/2025' '8/15/2021' '7/8/2022' '8/1/2025'\n",
      " '1/10/2022' '5/30/2024' '7/17/2024' '7/3/2025' '7/20/2020' '6/30/2022'\n",
      " '6/21/2023' '4/20/2023' '7/8/2026' '6/21/2019' '4/7/2023' '8/15/2023'\n",
      " '8/1/2023' '3/15/2023' '11/22/2022' '3/30/2027' '2/19/2025' '5/20/2023'\n",
      " '9/13/2023' '9/16/2023' '6/5/1996' '8/5/2017' '5/3/2024' '1/14/2024'\n",
      " '5/15/2018' '6/11/2025' '7/1/2023' '8/24/2023' '6/5/2015' '11/30/2023'\n",
      " '7/20/2024' '6/1/2016' '4/13/2024' '8/25/2022' '5/1/2020' '6/2/2013'\n",
      " '3/20/2019' '11/10/2014' '11/25/2022' '8/20/2025' '4/17/2023' '9/28/2025'\n",
      " '2/21/2021' '5/30/2025' '8/22/2022' '5/1/2021' '11/28/2022' '6/25/2022'\n",
      " '10/27/2022' '6/11/2018' '4/23/2025' '7/31/2021' '11/24/2023' '5/20/2019'\n",
      " '5/27/2023' '5/15/2023' '9/15/2019' '7/29/2021' '6/23/2023' '8/2/2023'\n",
      " '6/15/2016' '5/14/2025' '9/1/2016' '12/10/2020' '11/29/2025' '4/1/2022'\n",
      " '5/31/2023' '6/27/2025' '1/10/2027' '8/22/2025' '6/8/2022' '7/26/2003'\n",
      " '8/17/2022' '1/18/2024' '3/20/2024' '3/1/2027' '8/25/2021' '8/30/2022'\n",
      " '7/15/2024' '11/21/2020' '7/11/2023' '6/16/2024' '4/12/2024' '6/17/2025'\n",
      " '6/26/2021' '6/22/2025' '12/8/2023' '9/1/2019' '6/1/2026' '6/21/2025'\n",
      " '5/2/2024' '4/23/2023' '4/1/2018' '2/29/2024' '6/20/2019' '6/13/2023'\n",
      " '1/11/2024' '10/10/2022' '8/30/2018' '6/7/2024' '8/10/2017' '12/20/2023'\n",
      " '5/17/2024' '9/30/2017' '4/17/2025' '7/1/2026' '6/18/2019' '8/1/2016'\n",
      " '4/10/2023' '3/25/2022' '11/4/2022' '12/30/2022' '6/12/2025' '6/14/2024'\n",
      " '12/6/2023' '10/31/2025' '5/31/2017' '7/29/2023' '1/11/2020' '8/18/2023'\n",
      " '5/13/2023' '10/24/2025' '10/1/2023' '1/10/2023' '5/16/2024' '4/15/2024'\n",
      " '6/9/2024' '7/12/2023' '4/30/2019' '8/31/2023' '7/30/2025' '7/25/2026'\n",
      " '9/5/2018' '5/10/2023' '8/10/2023' '11/20/2023' '4/14/2020' '4/8/2025'\n",
      " '8/14/2021' '3/1/2024' '5/6/2023' '6/30/2026' '2/1/2021' '8/12/2022'\n",
      " '7/18/2023' '10/30/2026' '12/24/2022' '7/24/2023' '8/31/2024' '9/17/2022'\n",
      " '10/30/2023' '5/18/2024' '6/7/2023' '9/22/2021' '8/19/2021' '9/1/2022'\n",
      " '10/20/2023' '5/20/2015' '6/28/2022' '6/15/2022' '4/28/2024' '1/10/2021'\n",
      " '10/25/2000' '4/14/2025' '6/30/2019' '7/10/2019' '4/30/2018' '4/16/2019'\n",
      " '6/5/2022' '5/27/2024' '5/25/2024' '4/25/2026' '4/13/2027' '7/11/2019'\n",
      " '3/18/2025' '11/22/2023' '12/9/2022' '6/12/2023' '6/15/0025' '5/1/2022'\n",
      " '5/6/2025' '7/25/2024' '12/23/2023' '4/7/2022' '9/9/2024' '5/25/2023'\n",
      " '11/16/2027' '6/1/2021' '4/25/2024' '7/18/2024' '12/13/2017' '5/25/2025'\n",
      " '4/9/2025' '7/11/2020' '12/19/2021' '5/9/2018' '4/15/2023' '3/1/2025'\n",
      " '9/27/2024' '1/11/2022' '6/9/2011' '4/1/2023' '7/1/2013' '5/27/2022'\n",
      " '1/31/2011' '7/10/2024' '3/12/2025' '10/13/2022' '5/31/2020' '4/15/2004'\n",
      " '3/30/2023' '6/12/2024' '6/6/2023' '10/23/2020' '7/19/2021' '4/28/2026'\n",
      " '8/5/2023' '9/7/2021' '4/30/2013' '9/9/2023' '6/1/2022' '7/30/2024'\n",
      " '7/12/2022' '8/23/2022' '7/16/2023' '5/20/2018' '12/1/2021' '7/15/2025'\n",
      " '9/11/2020' '4/18/2022' '8/5/2022' '7/16/2017' '5/14/2024' '6/10/2022'\n",
      " '8/16/2014' '8/30/2024' '6/25/2023' '4/20/2000' '12/20/2022' '7/16/2025'\n",
      " '3/1/2019' '4/26/2023' '6/15/2021' '7/31/2026' '7/30/2020' '9/8/2023'\n",
      " '9/2/2023' '5/10/2017' '12/21/2020' '6/1/2012' '6/6/2022' '3/2/2013'\n",
      " '8/6/2023' '8/26/2022' '7/8/2023' '4/12/2023' '6/15/2025' '10/29/2020'\n",
      " '4/5/2022' '6/26/2023' '5/9/2023' '2/20/2023' '10/22/2022' '10/4/2013'\n",
      " '8/31/2022' '9/1/2025' '8/20/2015' '7/11/2026' '5/16/2011' '10/23/2025'\n",
      " '3/13/2023' '5/2/2022' '11/7/2023' '7/19/2023' '4/21/2020' '1/16/2024'\n",
      " '4/20/2022' '5/15/2026' '5/29/2025' '8/3/2021' '6/17/2022' '5/29/2022'\n",
      " '6/4/2017' '4/30/2022' '11/1/2020' '5/5/2022' '6/1/2009' '4/20/2025'\n",
      " '5/12/2016' '1/11/2025' '3/5/2025' '7/16/2021' '4/5/2024' '3/5/2019'\n",
      " '11/16/2019' '9/10/2023' '6/26/2024' '9/8/2021' '7/28/2023' '9/12/2023'\n",
      " '5/11/2024' '3/31/2019' '9/1/2023' '11/2/2023' '8/5/2025' '9/15/2020'\n",
      " '6/9/2025' '1/3/2025' '8/20/2023' '6/24/2024' '5/15/2022' '6/18/2026'\n",
      " '9/18/2025' '12/15/2023' '12/26/2025' '1/20/2024' '11/15/2023' '7/9/2022'\n",
      " '5/10/2022' '8/15/2027' '5/5/2016' '2/5/2024' '9/30/2023' '9/20/2027'\n",
      " '6/16/2022' '11/11/2024' '8/26/2014' '1/9/2026' '6/13/2024' '11/29/2021'\n",
      " '5/30/2027' '7/4/2022' '4/2/2025' '6/28/2023' '2/10/2025' '5/16/2023'\n",
      " '6/26/2022' '9/27/2025' '9/28/2022' '9/28/2021' '5/31/2021' '1/5/2024'\n",
      " '7/14/2021' '5/17/2017' '6/20/2022' '5/5/2026' '12/1/2023' '3/3/2024'\n",
      " '10/8/2022' '10/19/2022' '2/11/2023' '11/1/2026' '10/17/2020' '4/1/2021'\n",
      " '3/14/2023' '1/3/2001' '7/7/2024' '8/10/2021' '6/13/2013' '5/15/2019'\n",
      " '10/15/2022' '9/30/2024' '2/28/2023' '7/20/2025' '8/18/2022' '5/24/2024'\n",
      " '9/16/2021' '8/25/2023' '6/9/2022' '10/28/2020' '4/29/2024' '11/6/2023'\n",
      " '8/31/2019' '7/28/2012' '7/14/2023' '5/1/2011' '8/16/2025' '6/19/2023'\n",
      " '7/4/2023' '12/12/2023' '1/5/2026' '1/1/2024' '5/2/2016' '11/15/2022'\n",
      " '7/23/2026']\n",
      "About_you:['I am currently enrolled in a Data Science certification course'\n",
      " 'I have never enrolled in any certification courses'\n",
      " 'I have completed a Data Science certification course']\n",
      "Institute:['Innomatics Research Labs' nan\n",
      " 'Velagapudi ramakrishna Siddhartha college '\n",
      " 'In NPTEL as well as Coursera IBM Data Science Course I am currently enrolled in.'\n",
      " 'Innomatics research labs ' 'Coach-Ed'\n",
      " 'Internship at Innomatics Research Labs'\n",
      " 'Symbiosis skills and professional University'\n",
      " 'AISSMS Institute of Information Technology' 'Swayam NPTEL course '\n",
      " 'Innomatics Research Labs ' 'Innomatics Research Labs\"'\n",
      " 'Innomatices research labs' 'InnomaticsResearchLabs ' 'Udemy'\n",
      " 'INNOMATICS RESEARCH LABS' 'Innomatics research labs' 'Scaler Academy '\n",
      " 'Sri Manakula Vinayagar Engineering College' 'Innomatics Resarch Labs '\n",
      " 'Innomatics' 'innomatics research labs' 'ExcelR Solutions'\n",
      " 'Innomatics Research Lab ' 'Na' 'Acmegrade' 'excelR solutions '\n",
      " 'Mysore University' 'Coursera' 'Top Mentor' 'Skill for all cisco'\n",
      " 'Innomatics Research labs' 'UDEMY' 'Vikramasimhapuri University'\n",
      " 'Simplilearn' 'University of Kerala' 'Udemy ' 'COURSERA' 'Coursera '\n",
      " 'Sreenidhi institute of science and technology '\n",
      " 'SQUAD Infotech Pvt. Ltd.' 'FunctionUp' 'No'\n",
      " 'Andhra Pradesh State Skill Development Corporation (APSSDC)'\n",
      " 'Innomatics Research Labs , JNTU Hyderabad ' 'Chandigarh University '\n",
      " 'COCSIT ' 'Inomatics research labs ' 'NA ' 'Excelr' 'Yhills'\n",
      " \"AWS MACHINE LEARNING FOUNDATIONS, deeplearning.ai and stanford's machine learning specialization on coursera\"\n",
      " 'Pantech solutions, Twilearn ' 'ALMABETTER' 'Innomatics Reasearch Labs'\n",
      " 'Innomatics Research Labs Hyderabad' 'Internshala Trainings' 'ETlhive '\n",
      " 'Data Einstein ' ' Coursera, Geeks For Geeks , Udemy.'\n",
      " 'NPTEL Online course for completed the Data science and engineers certification.'\n",
      " 'Scaler' 'Simplilearn and Codebasics' 'Innomatics Research labs '\n",
      " 'TechnoHacks EduTech Private limited ' 'Internshala' 'IIT madras'\n",
      " 'Offline coaching centre ' 'AlmaBetter '\n",
      " 'Google Data Analytics Certification, IBM Data Science Certification'\n",
      " 'Institute of aeronautical engineering'\n",
      " 'Tamilnadu Skill Development of Corporation' 'Pantech University'\n",
      " 'almabetter,British Airways Data science virtual internship'\n",
      " 'innomatics Research labs, Hyderabad'\n",
      " 'Innomatics Research Labs, Hyderabad ' 'Innomatics Research lab'\n",
      " 'CodeBasics Online Platform ' 'skill for all Cisco'\n",
      " 'Excelr solutions Pune' 'Digipodium ' '365 Careers'\n",
      " 'Cisco networking academy ' 'Innometics Research Labs'\n",
      " 'Indian Institute of Technology Madras' '1stop'\n",
      " \"Innomatics Research Lab's\" 'Freecodecamp' 'INNOVATIVE RESEARCH LAB'\n",
      " 'Bharat Intern' 'Innomatics research lab' 'Stanford University'\n",
      " 'coursera ' 'HDLC Technologies ' 'Bharati Vidyapeeth University '\n",
      " 'Innomatics research Labs' 'Jobaaj Learnings'\n",
      " 'Lovely Professional University '\n",
      " 'Kaggle Online Course , Coursera Online Course,IBM Course'\n",
      " 'Kristu jayanti college ' 'Innomatics ' 'ITvedant Education Institute'\n",
      " 'INNOMATICS' 'Learnbay institute ' 'DataCamp'\n",
      " 'Stanford University Online ' 'Simplilearn platform '\n",
      " 'GUVI -IIT Madras Research Park' 'EdYoda Digital Institute'\n",
      " 'St Clair College ' 'The correlation' 'Informatics research lab'\n",
      " 'Innomatics Reasearch labs' 'SR University' 'Coding Ninjas ' 'na'\n",
      " 'Excelr Solutions' 'Charotar University of Science and Technology'\n",
      " 'Innomatics Research Labs.' 'Squad Infotech' 'IBM ' 'Scaler ' 'Upgrad '\n",
      " 'I am doing geeks for geeks course' 'MIT ADT University' 'Linkedin'\n",
      " 'Bishop Heber College ' 'Shiv Nadar University Chennai '\n",
      " 'NA(self learning) '\n",
      " 'IIITDM(Indian Institute of Information and Technology ,Design and Manufacturing) Kancheepuram'\n",
      " 'Ganpat University ' 'Department of technology (pune university)'\n",
      " 'Explore Academy' 'NPTEL' 'Ramniranjan Jhunjhunwala College Mumbai '\n",
      " 'iNeuron.ai (Full Stack Data Science)' 'Top mentor' '360digitmg'\n",
      " \"Vidya Pratishthan's Kamalnayan Bajaj Institute of Engineering and Technology\"\n",
      " 'International Institute of Information Technology'\n",
      " 'Vaagdevi college of engineering '\n",
      " 'Forks coding school, Innomatics Research lab'\n",
      " 'Hagital Consult Nigeria and IBM Data Science Professional Certificate Course (Coursera)'\n",
      " 'Guvi - IITM' '365 Data Science' 'Intershala '\n",
      " 'Innomatics Research Lab, Hyderabad' 'INeuron' 'Pwskills '\n",
      " 'College of Engineering Pune' 'Graphic era university '\n",
      " 'Coursera Platform' 'KWS college of Sangli ' 'INNOMATICS RESEARCH LAB '\n",
      " 'Jansons Institute of Technology ' 'Coursera Data Science course by IBM'\n",
      " 'DA innomatics' 'Innomatices' 'Google Data analytics certification '\n",
      " 'IBM' 'GITAM University, Visakhapatnam ' 'Pantech' 'Courseera'\n",
      " 'PW skills ' 'Gnanamani College of Technology ' 'Evarcity'\n",
      " 'Internstudio , Microsoft Learning' 'Indira institute of Education'\n",
      " 'Squad Infotech Pvt.ltd' 'Pwskills' 'Internship studio' 'N/a' 'IANT'\n",
      " 'HyperionDev' 'Great Learning ' 'Learnwick Solutions '\n",
      " 'Centre for Development of Advanced Computing Mumbai '\n",
      " 'Innomatics research labs, jntu' 'Physics wallah ' 'Nucot in Bangalore'\n",
      " 'Royal Technosoft pvt Ltd ' 'Innomatics Reasearch Labs ' 'ExcelR'\n",
      " 'Learnbay' 'Coursera IBM Data Science COurse'\n",
      " 'ExcelR Institude Baner Pune' 'Geek For Geeks Course' 'Applied Roots'\n",
      " 'INTELLIPAT and IIT Roorkee'\n",
      " 'From my college I have a subject data science, and also registered with Cisco learnings '\n",
      " 'PW Skills' 'Tkr college of engineering and technology'\n",
      " 'innomatics research lab' 'Online course (physics Wallah)'\n",
      " 'Innomatics Resreach lab' 'Quality Thoughts'\n",
      " 'Coursers deep learning by Andrew Ng' 'Squad Infotech ' 'N'\n",
      " 'Hamoye and Binance Charity'\n",
      " 'IBM SkillsBuild and CSRBOX academic Internship for Data Analytics!'\n",
      " 'Pw skills' 'Freecodecamp online lessons' 'Innomatics Research  Labs'\n",
      " 'IIT Roorkee ' 'Skill Academy by Testbook' 'Cognitive Class'\n",
      " 'IPCS GLOBAL CALICUT '\n",
      " 'Rajiv Gandhi Proudyogiki Vishwavidyalaya, Udacity' 'AlmaBetter'\n",
      " 'Academor ' 'PYTHON FOR DATA SCIENCE AND AI BY IBM' 'Letsupgrade '\n",
      " 'Jain University and FingerTips collaboration '\n",
      " 'ALIGARH MUSLIM UNIVERSITY' 'IIT-M and Intellipaat'\n",
      " 'Department of Futures Studies, University of Kerala' 'Physics Wallah'\n",
      " 'TCSiON Industry Honored Course' 'Squad Institute '\n",
      " 'innomatics reseach labs' 'Almabetter ' 'Internshala trainings'\n",
      " 'Simplelearn' 'Indian Institute of Technology, Mandi'\n",
      " 'Deep Learning.ai and Campus X' 'INNOMATICS RESEARCH LABS ' 'Udacity'\n",
      " 'Udemy and PW Skills' 'Learned mostly from Youtube'\n",
      " 'Almabetter Institute ' 'Udemy Zero To Mastery Academy'\n",
      " 'Innomatis Research Labs' 'Linux World Informatic Practices' 'prepinsta'\n",
      " 'Innomatics Research Lab , Hyderabad' 'University of Kerala '\n",
      " 'Innomatics Research Lab' 'Coursera Certification '\n",
      " 'innomatics research labs '\n",
      " 'Kg reddy college of engineering and technology' 'Ybi Foundation'\n",
      " 'Jansons Institute of Technology' 'coursera & scaler'\n",
      " 'Central University of Rajasthan' 'GOOGLE' 'Aligarh Muslim University '\n",
      " 'Prepinsta' 'Jobaaj Data Science 5 day free course.'\n",
      " 'Odin school  hyderbad ' 'Indian Institute of Technology Kharagpur '\n",
      " 'Udemy courses and youtube' 'Bishop Heber College (as Degree)'\n",
      " 'sathya technologiies'\n",
      " '1. Udemy - Completed  2. Great Learning - Completed' 'TEACHNOOK'\n",
      " 'Infosys springboard '\n",
      " \"i have done data science virtualship internship and it's completed and also I did an data science certificate from IBM\"\n",
      " 'Analytics Vidhya' 'NareshIT' 'IBM at COURSERA' '360DIGITMG' 'Degree'\n",
      " 'Udemy and coursera' '360DigitMG'\n",
      " 'Devi Ahilya Vishwavidyalay, Indore, India' 'Upskill Campus' 'Ibm'\n",
      " 'Infinite Graphics Teachnology, Pune' 'Infosys Springboard '\n",
      " 'Cognitiveclass.ai' 'Entrance exam certificate got' 'PrepInsta Prime'\n",
      " 'Swayam NPTL' 'Datamites, bangalore' 'Jain (Deemed-to-be-University)'\n",
      " 'Applied AI Course' 'Teks Academy' 'LEARNBAY' 'VERZEO'\n",
      " 'Iam taking personally by one of the professor '\n",
      " 'Sona College of Technology & Google ' 'DAVV ' 'PanTech E learning '\n",
      " 'PES Modern College of Engineering Pune ' 'Ducat,Noida sec-16' 'TCS'\n",
      " 'python programming and artificial intelligence , pantech e learning'\n",
      " \"Simplilearn data science ( ongoing master's in AI engineer course)\"\n",
      " 'St.Martins Engineering College ' 'Great learning' 'Uncodemy'\n",
      " 'Department of Futures Studies ' 'HarvardX '\n",
      " 'Cyberaegis IT Solutions Pvt Ltd' 'NCVET' 'YBI Foundation'\n",
      " 'M.Sc Data science ' 'Innomatics research lab Hyderabad '\n",
      " 'Seed Infotech ' 'Gana Tech Solutions ' 'Guvi' 'Innomatic Reaserch Lab'\n",
      " 'KGiSL Institute of technology'\n",
      " 'Btech Artificial intelligence and data science @ Dhanalakshmi Srinivasan Engineering College Perambalur '\n",
      " 'udemy' 'NPTEL, freeCodeCamp.org, CS50, Coursera' 'Amity University'\n",
      " 'School of Data Science and Business Intellegence (SDBI), University of Mumbai'\n",
      " 'World Quant Univeristy' 'INNOMATICS RESEARCH LAB'\n",
      " 'Function Up School of Technology '\n",
      " 'IBM Data Science Professional Certificate Course'\n",
      " 'G H Raisoni collage of engineering and management, Whagoli '\n",
      " 'Google Advanced Data analytics and Inmakes infotech internship'\n",
      " 'IIT GUWAHATI, EDUREKA '\n",
      " 'Madanapalle Institute of Technology and Science'\n",
      " 'MIT World Peace University' 'Datamites' 'Paavai engineering college '\n",
      " 'Innomatics Research Labs, Hyderabad' 'WorldQuant University'\n",
      " 'Data Science for Engineers, Swayam(NTPEL)' 'Codingrad, ExcelR'\n",
      " 'PGD in Pune University ' 'Udemy , great learning ' 'Learn AI'\n",
      " 'Geeks for Geeks' 'Quality Thoughts Infosystems, Velachery, Chennai '\n",
      " 'Simplilearn ,India.' 'Innomatics Research Labs,Hayderabad'\n",
      " 'The Cooperative university of Kenya ' 'Free code camp'\n",
      " 'Innomatics research labs Hyderabad ' 'IIIT-Bangalore'\n",
      " 'LinkedIn, Coursera ' 'CodeClause' 'ISBR BUSINESS SCHOOL' 'In'\n",
      " ' Innomatics Research Labs' 'ineuron'\n",
      " 'Sharad Institute of Technology College of engineering '\n",
      " \"Ducat's institute \" 'Brainovision' 'Internshala '\n",
      " 'Amrita school of engineering ' 'Anits '\n",
      " 'Infinity graphics technology, Pune ' 'Digital nest, Udemy '\n",
      " 'African Leadership X(ALX)' 'msc data scince'\n",
      " 'Lagos School of programming ' 'University of Roehampton, United Kingdom'\n",
      " 'Livewire Livetech Skills ' 'Naresh IT ' 'Coursera(Stanford), MyCaptain'\n",
      " 'Learnbay ' 'IIIT bangalore' 'SCALER' 'INNOMATICS REASEARCH LABS'\n",
      " 'DataMites' 'Coursera, Google certification' 'Govt ANMT School Anantnag'\n",
      " 'DevTown' 'ONLINE COURSE '\n",
      " 'Birla Institute of Technology and Science, Pilani ']\n",
      "Inno_BatchNo:['251' nan 'Na' 'AI Elight 13 ( 242 )' '249' '261' '188' '256' '186'\n",
      " 'AI ELITE 13 batch (243)' '230G' '215' '239' '218' '194' '242' '237'\n",
      " '223' '235' '211' '230g' '168' '243' 'No' '254' '240' '248' '210'\n",
      " 'AI ELITE 13 (241)' '184' '225' '22' '81011000223' '192' '247' '255'\n",
      " '230' '232' '249, ai-elite-16' '251 , Ai-elite-batch-16' '207' 'INFS102'\n",
      " '206' '241' 'Batch-240 ' '234' '238' '209' '236' '204_205' 'Coursera '\n",
      " '264' 'ai-elite-batch-16' '202' '250' '260' 'na' 'Feb DS internship 2023'\n",
      " '252' '244' '258' '257' 'AI Elite 13' 'AI ELITE 13' 'Ai elite 10 '\n",
      " 'AI ELITE 12 & BATCH 225' 'Batch 129' '215_216' '246' 'Jan 24' '197'\n",
      " '231' 'NA ' '23' '245' 'Its Online Program' 'ai-elite14' '191' '227'\n",
      " '81010808823/Ai Elite16' 'Internship-July22' 'Alite 9' '212'\n",
      " 'Ai-elite 13 ' 'Batch no : 215' '123' '199' 'Ailte14(243)' 'Elite-8 '\n",
      " 'N/a' 'Ai-elite-13 ' \"NA but i think it's strat on jan 24\" '185' '217'\n",
      " '265 -266' 'Elite 8 ' '208' '201' 'AI Elite 12' '262' '81010800923'\n",
      " '81010904023' '170 , 147' '180' '204-205' '277' 'ds_intern_23' '251_252'\n",
      " 'Na ' '259' '177' '229' 'Ai-elite-batch 10' '213' 'AI-ELITE-13'\n",
      " 'AI Elite 11' '228' 'Ds21' '239G' '190' 'ai_elite-13' '201(Elite-8)'\n",
      " 'AI -Elite _13' '193' 'AI ELITE-14' '183' '239G ' '267' 'DW67DW68'\n",
      " '81010502623' '200' '213 Ai Elite 10' 'AI-Elite-11' 'Elite-7'\n",
      " ' Alite- 13' 'AI ELITE 10' '253' '233' '81020802723    -    251  batch '\n",
      " '136 ,142']\n",
      "Preferred_time:['6:00 to 7:00 PM IST' '5:00 to 6:00 PM IST']\n",
      "Imp_Skills:['Extracting actionable insights from the raw data, Data Modelling, LLMs, MLOps, Basics of backend application development using python'\n",
      " 'Extracting actionable insights from the raw data' 'Data Modelling'\n",
      " 'Extracting actionable insights from the raw data, Data Modelling'\n",
      " 'Extracting actionable insights from the raw data, Data Modelling, LLMs, Basics of backend application development using python, Prompt Engineering'\n",
      " 'Extracting actionable insights from the raw data, Data Modelling, LLMs, MLOps, Basics of backend application development using python, Prompt Engineering'\n",
      " 'Extracting actionable insights from the raw data, Data Modelling, Basics of backend application development using python'\n",
      " 'Extracting actionable insights from the raw data, Data Modelling, MLOps, Basics of backend application development using python'\n",
      " 'Basics of backend application development using python'\n",
      " 'Extracting actionable insights from the raw data, Data Modelling, LLMs, MLOps'\n",
      " 'Extracting actionable insights from the raw data, Basics of backend application development using python'\n",
      " 'Extracting actionable insights from the raw data, Data Modelling, LLMs, MLOps, Prompt Engineering'\n",
      " 'Extracting actionable insights from the raw data, Data Modelling, MLOps, Prompt Engineering'\n",
      " 'Extracting actionable insights from the raw data, LLMs, MLOps, Basics of backend application development using python'\n",
      " 'Data Modelling, LLMs, MLOps, Prompt Engineering'\n",
      " 'Extracting actionable insights from the raw data, Data Modelling, LLMs, Prompt Engineering'\n",
      " 'Extracting actionable insights from the raw data, Data Modelling, MLOps'\n",
      " 'MLOps'\n",
      " 'Data Modelling, MLOps, Basics of backend application development using python'\n",
      " 'LLMs, MLOps, Prompt Engineering'\n",
      " 'Extracting actionable insights from the raw data, LLMs, Prompt Engineering'\n",
      " 'Extracting actionable insights from the raw data, Data Modelling, Prompt Engineering'\n",
      " 'Extracting actionable insights from the raw data, LLMs, Basics of backend application development using python'\n",
      " 'Prompt Engineering'\n",
      " 'Extracting actionable insights from the raw data, Data Modelling, Basics of backend application development using python, Prompt Engineering'\n",
      " 'Basics of backend application development using python, Prompt Engineering'\n",
      " 'Extracting actionable insights from the raw data, Data Modelling, LLMs, Basics of backend application development using python'\n",
      " 'Extracting actionable insights from the raw data, MLOps, Basics of backend application development using python, Prompt Engineering'\n",
      " 'Extracting actionable insights from the raw data, Data Modelling, LLMs'\n",
      " 'Extracting actionable insights from the raw data, LLMs, MLOps, Prompt Engineering'\n",
      " 'Data Modelling, LLMs, MLOps, Basics of backend application development using python'\n",
      " 'LLMs, Basics of backend application development using python'\n",
      " 'Extracting actionable insights from the raw data, LLMs, Basics of backend application development using python, Prompt Engineering'\n",
      " 'Data Modelling, LLMs'\n",
      " 'Data Modelling, Basics of backend application development using python'\n",
      " 'Extracting actionable insights from the raw data, Basics of backend application development using python, Prompt Engineering'\n",
      " 'MLOps, Basics of backend application development using python, Prompt Engineering'\n",
      " 'Data Modelling, LLMs, MLOps'\n",
      " 'Extracting actionable insights from the raw data, LLMs'\n",
      " 'LLMs, Prompt Engineering'\n",
      " 'Extracting actionable insights from the raw data, LLMs, MLOps, Basics of backend application development using python, Prompt Engineering'\n",
      " 'Extracting actionable insights from the raw data, Data Modelling, MLOps, Basics of backend application development using python, Prompt Engineering'\n",
      " 'Extracting actionable insights from the raw data, MLOps'\n",
      " 'Extracting actionable insights from the raw data, LLMs, MLOps'\n",
      " 'Data Modelling, LLMs, MLOps, Basics of backend application development using python, Prompt Engineering'\n",
      " 'Data Modelling, MLOps, Basics of backend application development using python, Prompt Engineering'\n",
      " 'LLMs, Basics of backend application development using python, Prompt Engineering'\n",
      " 'LLMs'\n",
      " 'Data Modelling, LLMs, Basics of backend application development using python, Prompt Engineering'\n",
      " 'Extracting actionable insights from the raw data, Prompt Engineering'\n",
      " 'Data Modelling, MLOps'\n",
      " 'Extracting actionable insights from the raw data, MLOps, Prompt Engineering'\n",
      " 'LLMs, MLOps'\n",
      " 'MLOps, Basics of backend application development using python'\n",
      " 'LLMs, MLOps, Basics of backend application development using python, Prompt Engineering'\n",
      " 'LLMs, MLOps, Basics of backend application development using python'\n",
      " 'Data Modelling, LLMs, Prompt Engineering'\n",
      " 'Data Modelling, MLOps, Prompt Engineering'\n",
      " 'Extracting actionable insights from the raw data, MLOps, Basics of backend application development using python'\n",
      " 'MLOps, Prompt Engineering']\n"
     ]
    }
   ],
   "source": [
    "for i in dd.columns:\n",
    "    print(f'{i}:{dd[i].unique()}')"
   ]
  },
  {
   "cell_type": "markdown",
   "id": "59d26da9",
   "metadata": {},
   "source": [
    "## Treating Missing Values"
   ]
  },
  {
   "cell_type": "code",
   "execution_count": 8,
   "id": "f1451d56",
   "metadata": {},
   "outputs": [
    {
     "data": {
      "text/plain": [
       "DOB                 0\n",
       "Cur_profe           0\n",
       "Year_Qualified      0\n",
       "About_you           0\n",
       "Institute         322\n",
       "Inno_BatchNo      662\n",
       "Preferred_time      0\n",
       "Imp_Skills          0\n",
       "dtype: int64"
      ]
     },
     "execution_count": 8,
     "metadata": {},
     "output_type": "execute_result"
    }
   ],
   "source": [
    "dd.isna().sum()"
   ]
  },
  {
   "cell_type": "code",
   "execution_count": 9,
   "id": "a75a912f",
   "metadata": {},
   "outputs": [],
   "source": [
    "dd['Institute'].fillna('Unknown',inplace = True)"
   ]
  },
  {
   "cell_type": "code",
   "execution_count": 10,
   "id": "3f7bb363",
   "metadata": {},
   "outputs": [],
   "source": [
    "dd['Inno_BatchNo'].fillna(\"Not Innomatic's Student\", inplace = True)"
   ]
  },
  {
   "cell_type": "code",
   "execution_count": 11,
   "id": "d3bd755b",
   "metadata": {},
   "outputs": [
    {
     "data": {
      "text/plain": [
       "DOB               0\n",
       "Cur_profe         0\n",
       "Year_Qualified    0\n",
       "About_you         0\n",
       "Institute         0\n",
       "Inno_BatchNo      0\n",
       "Preferred_time    0\n",
       "Imp_Skills        0\n",
       "dtype: int64"
      ]
     },
     "execution_count": 11,
     "metadata": {},
     "output_type": "execute_result"
    }
   ],
   "source": [
    "dd.isna().sum()"
   ]
  },
  {
   "cell_type": "markdown",
   "id": "5670e214",
   "metadata": {},
   "source": [
    "## Typecasting"
   ]
  },
  {
   "cell_type": "code",
   "execution_count": 12,
   "id": "f5d61388",
   "metadata": {},
   "outputs": [
    {
     "name": "stdout",
     "output_type": "stream",
     "text": [
      "<class 'pandas.core.frame.DataFrame'>\n",
      "RangeIndex: 1000 entries, 0 to 999\n",
      "Data columns (total 8 columns):\n",
      " #   Column          Non-Null Count  Dtype \n",
      "---  ------          --------------  ----- \n",
      " 0   DOB             1000 non-null   object\n",
      " 1   Cur_profe       1000 non-null   object\n",
      " 2   Year_Qualified  1000 non-null   object\n",
      " 3   About_you       1000 non-null   object\n",
      " 4   Institute       1000 non-null   object\n",
      " 5   Inno_BatchNo    1000 non-null   object\n",
      " 6   Preferred_time  1000 non-null   object\n",
      " 7   Imp_Skills      1000 non-null   object\n",
      "dtypes: object(8)\n",
      "memory usage: 62.6+ KB\n"
     ]
    }
   ],
   "source": [
    "dd.info()"
   ]
  },
  {
   "cell_type": "code",
   "execution_count": 13,
   "id": "7cb12227",
   "metadata": {},
   "outputs": [],
   "source": [
    "dd[\"DOB\"] = pd.to_datetime(dd[\"DOB\"])"
   ]
  },
  {
   "cell_type": "markdown",
   "id": "978bfa8d",
   "metadata": {},
   "source": [
    "## Data Manipulation"
   ]
  },
  {
   "cell_type": "markdown",
   "id": "bbe7dc3d",
   "metadata": {},
   "source": [
    "#### 1) What is the current profession of most interns? "
   ]
  },
  {
   "cell_type": "code",
   "execution_count": 15,
   "id": "a552ea77",
   "metadata": {},
   "outputs": [
    {
     "data": {
      "text/plain": [
       "'Student (I am currently enrolled in some Educational Program)'"
      ]
     },
     "execution_count": 15,
     "metadata": {},
     "output_type": "execute_result"
    }
   ],
   "source": [
    "dd['Cur_profe'].mode()[0]"
   ]
  },
  {
   "cell_type": "markdown",
   "id": "d510b5a1",
   "metadata": {},
   "source": [
    "#### 2) What are the preferred LIVE session timings?"
   ]
  },
  {
   "cell_type": "code",
   "execution_count": 16,
   "id": "7d61757c",
   "metadata": {},
   "outputs": [
    {
     "data": {
      "text/plain": [
       "'6:00 to 7:00 PM IST'"
      ]
     },
     "execution_count": 16,
     "metadata": {},
     "output_type": "execute_result"
    }
   ],
   "source": [
    "dd['Preferred_time'].mode()[0]"
   ]
  },
  {
   "cell_type": "markdown",
   "id": "5d948e59",
   "metadata": {},
   "source": [
    "#### 3) How many interns are enrolled or have completed their data science professional courses?"
   ]
  },
  {
   "cell_type": "code",
   "execution_count": 19,
   "id": "fe33467a",
   "metadata": {},
   "outputs": [
    {
     "data": {
      "text/plain": [
       "698"
      ]
     },
     "execution_count": 19,
     "metadata": {},
     "output_type": "execute_result"
    }
   ],
   "source": [
    "len(dd[dd['About_you'] != 'I have never enrolled in any certification courses'])"
   ]
  },
  {
   "cell_type": "markdown",
   "id": "e2c8d948",
   "metadata": {},
   "source": [
    "#### 4) For interns who never enrolled in a data science certification course, what is the current profession of the majority of them?"
   ]
  },
  {
   "cell_type": "code",
   "execution_count": 20,
   "id": "02e4fa24",
   "metadata": {},
   "outputs": [
    {
     "data": {
      "text/plain": [
       "'Student (I am currently enrolled in some Educational Program)'"
      ]
     },
     "execution_count": 20,
     "metadata": {},
     "output_type": "execute_result"
    }
   ],
   "source": [
    "dd[dd['About_you'] == 'I have never enrolled in any certification courses']['Cur_profe'].mode()[0]"
   ]
  },
  {
   "cell_type": "markdown",
   "id": "6235fa56",
   "metadata": {},
   "source": [
    "#### 5) Which skill is the third most important for a data scientist?\n"
   ]
  },
  {
   "cell_type": "code",
   "execution_count": 21,
   "id": "6db42701",
   "metadata": {},
   "outputs": [],
   "source": [
    "imp_skill = []\n",
    "for i in dd['Imp_Skills']:\n",
    "    for j in i.split(sep = ','):\n",
    "        imp_skill.append(j.strip())"
   ]
  },
  {
   "cell_type": "code",
   "execution_count": 22,
   "id": "d2f47e2e",
   "metadata": {},
   "outputs": [],
   "source": [
    "key = []\n",
    "value =[]\n",
    "for i in set(imp_skill):\n",
    "    key.append(i)\n",
    "    value.append(imp_skill.count(i))\n",
    "i_s = dict(zip(key, value))"
   ]
  },
  {
   "cell_type": "code",
   "execution_count": 57,
   "id": "31910665",
   "metadata": {},
   "outputs": [
    {
     "data": {
      "text/plain": [
       "Extracting actionable insights from the raw data          869\n",
       "Data Modelling                                            825\n",
       "MLOps                                                     596\n",
       "LLMs                                                      533\n",
       "Basics of backend application development using python    522\n",
       "Prompt Engineering                                        425\n",
       "dtype: int64"
      ]
     },
     "execution_count": 57,
     "metadata": {},
     "output_type": "execute_result"
    }
   ],
   "source": [
    "pd.Series(i_s).sort_values(ascending = False)"
   ]
  },
  {
   "cell_type": "markdown",
   "id": "c529a5a8",
   "metadata": {},
   "source": [
    "#### 6) How many interns selected “Prompt Engineering” as the most important skill?"
   ]
  },
  {
   "cell_type": "code",
   "execution_count": 24,
   "id": "9ccd6dbb",
   "metadata": {},
   "outputs": [
    {
     "data": {
      "text/plain": [
       "425"
      ]
     },
     "execution_count": 24,
     "metadata": {},
     "output_type": "execute_result"
    }
   ],
   "source": [
    "imp_skill.count('Prompt Engineering')"
   ]
  },
  {
   "cell_type": "markdown",
   "id": "c4792f6c",
   "metadata": {},
   "source": [
    "#### 7) What is the minimum age of an intern at Innomatics Research Labs?"
   ]
  },
  {
   "cell_type": "code",
   "execution_count": 25,
   "id": "baeba195",
   "metadata": {},
   "outputs": [],
   "source": [
    "dd['Age'] = (pd.to_datetime('today').year - dd['DOB'].dt.year)"
   ]
  },
  {
   "cell_type": "code",
   "execution_count": 26,
   "id": "19ecec89",
   "metadata": {},
   "outputs": [
    {
     "data": {
      "text/plain": [
       "0"
      ]
     },
     "execution_count": 26,
     "metadata": {},
     "output_type": "execute_result"
    }
   ],
   "source": [
    "dd['Age'].min()"
   ]
  },
  {
   "cell_type": "markdown",
   "id": "61465b50",
   "metadata": {},
   "source": [
    "#### 8) How many interns were born on a Sunday?"
   ]
  },
  {
   "cell_type": "code",
   "execution_count": 27,
   "id": "c17abc82",
   "metadata": {},
   "outputs": [
    {
     "data": {
      "text/plain": [
       "125"
      ]
     },
     "execution_count": 27,
     "metadata": {},
     "output_type": "execute_result"
    }
   ],
   "source": [
    "sum(dd['DOB'].dt.day_name() == \"Sunday\")"
   ]
  },
  {
   "cell_type": "markdown",
   "id": "ea4ffafe",
   "metadata": {},
   "source": [
    "#### 9) In which month do the majority of interns are born?"
   ]
  },
  {
   "cell_type": "code",
   "execution_count": 28,
   "id": "477fc8fa",
   "metadata": {},
   "outputs": [
    {
     "data": {
      "text/plain": [
       "'July'"
      ]
     },
     "execution_count": 28,
     "metadata": {},
     "output_type": "execute_result"
    }
   ],
   "source": [
    "dd['DOB'].dt.month_name().mode()[0]"
   ]
  },
  {
   "cell_type": "markdown",
   "id": "02d37e96",
   "metadata": {},
   "source": [
    "#### 10) What is the median age of a working professional?"
   ]
  },
  {
   "cell_type": "code",
   "execution_count": 29,
   "id": "0397db2f",
   "metadata": {},
   "outputs": [
    {
     "data": {
      "text/plain": [
       "27.0"
      ]
     },
     "execution_count": 29,
     "metadata": {},
     "output_type": "execute_result"
    }
   ],
   "source": [
    "dd[dd['Cur_profe'] == 'Working Professional (I have completed my Education and working full time)']['Age'].median()"
   ]
  },
  {
   "cell_type": "markdown",
   "id": "ec53e354",
   "metadata": {},
   "source": [
    "#### 11) What is the maximum age of a freelancer?"
   ]
  },
  {
   "cell_type": "code",
   "execution_count": 30,
   "id": "e8511e2f",
   "metadata": {},
   "outputs": [
    {
     "data": {
      "text/plain": [
       "44"
      ]
     },
     "execution_count": 30,
     "metadata": {},
     "output_type": "execute_result"
    }
   ],
   "source": [
    "dd[dd['Cur_profe'] == 'Freelancer (I have completed my Education and working part time or owns a business)']['Age'].max()"
   ]
  },
  {
   "cell_type": "markdown",
   "id": "d60f1ebc",
   "metadata": {},
   "source": [
    "#### 12) How many interns didn’t mention the name of the data science institute from where they completed or are currently pursuing the courses?"
   ]
  },
  {
   "cell_type": "code",
   "execution_count": 35,
   "id": "a6e052d8",
   "metadata": {},
   "outputs": [
    {
     "data": {
      "text/plain": [
       "322"
      ]
     },
     "execution_count": 35,
     "metadata": {},
     "output_type": "execute_result"
    }
   ],
   "source": [
    "sum(dd['Institute']=='Unknown')"
   ]
  },
  {
   "cell_type": "markdown",
   "id": "bb446345",
   "metadata": {},
   "source": [
    "#### 13) How many interns mentioned Innomatics as their data science institute?"
   ]
  },
  {
   "cell_type": "code",
   "execution_count": 38,
   "id": "85734471",
   "metadata": {},
   "outputs": [],
   "source": [
    "dd['Institute'] = dd['Institute'].str.lower()"
   ]
  },
  {
   "cell_type": "code",
   "execution_count": 47,
   "id": "d0298c72",
   "metadata": {},
   "outputs": [],
   "source": [
    "inst = []\n",
    "inst_name = ['innomatics','innomatices','innomatis','innometics','innovative','inomatics' ,'informatics', 'innomatic' ]\n",
    "for i in dd['Institute']:\n",
    "    for j in inst_name:\n",
    "        if j in i:\n",
    "            inst.append(i)"
   ]
  },
  {
   "cell_type": "code",
   "execution_count": 55,
   "id": "bb264cb9",
   "metadata": {},
   "outputs": [
    {
     "data": {
      "text/plain": [
       "568"
      ]
     },
     "execution_count": 55,
     "metadata": {},
     "output_type": "execute_result"
    }
   ],
   "source": [
    "len(inst)"
   ]
  },
  {
   "cell_type": "code",
   "execution_count": null,
   "id": "805df737",
   "metadata": {},
   "outputs": [],
   "source": []
  }
 ],
 "metadata": {
  "kernelspec": {
   "display_name": "Python 3 (ipykernel)",
   "language": "python",
   "name": "python3"
  },
  "language_info": {
   "codemirror_mode": {
    "name": "ipython",
    "version": 3
   },
   "file_extension": ".py",
   "mimetype": "text/x-python",
   "name": "python",
   "nbconvert_exporter": "python",
   "pygments_lexer": "ipython3",
   "version": "3.11.4"
  }
 },
 "nbformat": 4,
 "nbformat_minor": 5
}
